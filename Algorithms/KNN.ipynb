{
 "cells": [
  {
   "cell_type": "code",
   "execution_count": 1,
   "metadata": {},
   "outputs": [
    {
     "name": "stderr",
     "output_type": "stream",
     "text": [
      "[nltk_data] Downloading package genesis to\n",
      "[nltk_data]     /Users/zer0deck/nltk_data...\n",
      "[nltk_data]   Package genesis is already up-to-date!\n",
      "[nltk_data] Downloading package wordnet to\n",
      "[nltk_data]     /Users/zer0deck/nltk_data...\n",
      "[nltk_data]   Package wordnet is already up-to-date!\n",
      "[nltk_data] Downloading package punkt to /Users/zer0deck/nltk_data...\n",
      "[nltk_data]   Package punkt is already up-to-date!\n",
      "[nltk_data] Downloading package averaged_perceptron_tagger to\n",
      "[nltk_data]     /Users/zer0deck/nltk_data...\n",
      "[nltk_data]   Package averaged_perceptron_tagger is already up-to-\n",
      "[nltk_data]       date!\n"
     ]
    }
   ],
   "source": [
    "import nltk\n",
    "from nltk.corpus import wordnet as wn\n",
    "from nltk.corpus import genesis\n",
    "nltk.download('genesis')\n",
    "nltk.download('wordnet')\n",
    "nltk.download('punkt')\n",
    "nltk.download('averaged_perceptron_tagger')\n",
    "genesis_ic = wn.ic(genesis, False, 0.0)\n",
    "\n",
    "import numpy as np\n",
    "import pandas as pd\n",
    "from nltk.tokenize import word_tokenize\n",
    "from nltk.stem.porter import PorterStemmer\n",
    "from nltk.stem import SnowballStemmer\n",
    "from nltk.stem.lancaster import LancasterStemmer\n",
    "from nltk.corpus import stopwords\n",
    "from sklearn.metrics import roc_auc_score"
   ]
  },
  {
   "cell_type": "code",
   "execution_count": 2,
   "metadata": {},
   "outputs": [],
   "source": [
    "class KNN_NLC_Classifer():\n",
    "    def __init__(self, k=1, distance_type = 'path'):\n",
    "        self.k = k\n",
    "        self.distance_type = distance_type\n",
    "\n",
    "    # This function is used for training\n",
    "    def fit(self, x_train, y_train):\n",
    "        self.x_train = x_train\n",
    "        self.y_train = y_train\n",
    "\n",
    "    # This function runs the K(1) nearest neighbour algorithm and\n",
    "    # returns the label with closest match. \n",
    "    def predict(self, x_test):\n",
    "        self.x_test = x_test\n",
    "        y_predict = []\n",
    "\n",
    "        for i in range(len(x_test)):\n",
    "            max_sim = 0\n",
    "            max_index = 0\n",
    "            for j in range(self.x_train.shape[0]):\n",
    "                temp = self.document_similarity(x_test[i], self.x_train[j])\n",
    "                if temp > max_sim:\n",
    "                    max_sim = temp\n",
    "                    max_index = j\n",
    "            y_predict.append(self.y_train[max_index])\n",
    "        return y_predict\n",
    "\n",
    "\n",
    "    def convert_tag(self, tag):\n",
    "        \"\"\"Convert the tag given by nltk.pos_tag to the tag used by wordnet.synsets\"\"\"\n",
    "        tag_dict = {'N': 'n', 'J': 'a', 'R': 'r', 'V': 'v'}\n",
    "        try:\n",
    "            return tag_dict[tag[0]]\n",
    "        except KeyError:\n",
    "            return None\n",
    "\n",
    "\n",
    "    def doc_to_synsets(self, doc):\n",
    "        \"\"\"\n",
    "            Returns a list of synsets in document.\n",
    "            Tokenizes and tags the words in the document doc.\n",
    "            Then finds the first synset for each word/tag combination.\n",
    "        If a synset is not found for that combination it is skipped.\n",
    "\n",
    "        Args:\n",
    "            doc: string to be converted\n",
    "\n",
    "        Returns:\n",
    "            list of synsets\n",
    "        \"\"\"\n",
    "        tokens = word_tokenize(doc+' ')\n",
    "        \n",
    "        l = []\n",
    "        tags = nltk.pos_tag([tokens[0] + ' ']) if len(tokens) == 1 else nltk.pos_tag(tokens)\n",
    "        \n",
    "        for token, tag in zip(tokens, tags):\n",
    "            syntag = self.convert_tag(tag[1])\n",
    "            syns = wn.synsets(token, syntag)\n",
    "            if (len(syns) > 0):\n",
    "                l.append(syns[0])\n",
    "        return l  \n",
    "    \n",
    "\n",
    "    def similarity_score(self, s1, s2, distance_type = 'path'):\n",
    "          \"\"\"\n",
    "          Calculate the normalized similarity score of s1 onto s2\n",
    "          For each synset in s1, finds the synset in s2 with the largest similarity value.\n",
    "          Sum of all of the largest similarity values and normalize this value by dividing it by the\n",
    "          number of largest similarity values found.\n",
    "\n",
    "          Args:\n",
    "              s1, s2: list of synsets from doc_to_synsets\n",
    "\n",
    "          Returns:\n",
    "              normalized similarity score of s1 onto s2\n",
    "          \"\"\"\n",
    "          s1_largest_scores = []\n",
    "\n",
    "          for i, s1_synset in enumerate(s1, 0):\n",
    "              max_score = 0\n",
    "              for s2_synset in s2:\n",
    "                  if distance_type == 'path':\n",
    "                      score = s1_synset.path_similarity(s2_synset, simulate_root = False)\n",
    "                  else:\n",
    "                      score = s1_synset.wup_similarity(s2_synset)                  \n",
    "                  \n",
    "                      #score = s1_synset.jcn_similarity(s2_synset, genesis_ic)\n",
    "                      #score = s1_synset.jcn_similarity(s2_synset, brown_ic)\n",
    "                      #score = s1_synset.lin_similarity(s2_synset, semcor_ic)\n",
    "                      #score = s1_synset.res_similarity(s2_synset, genesis_ic)\n",
    "                      #score = s1_synset.res_similarity(s2_synset, brown_ic)\n",
    "                      #score = s1_synset.wup_similarity(s2_synset)\n",
    "                      #score = s1_synset.lch_similarity(s2_synset)\n",
    "                      #score = s1_synset.wup_similarity(s2_synset)\n",
    "\n",
    "                  if score != None:\n",
    "                      if score > max_score:\n",
    "                          max_score = score\n",
    "              \n",
    "              if max_score != 0:\n",
    "                  s1_largest_scores.append(max_score)\n",
    "          \n",
    "          mean_score = np.mean(s1_largest_scores)\n",
    "                 \n",
    "          return mean_score  \n",
    "        \n",
    "        \n",
    "    def document_similarity(self,doc1, doc2):\n",
    "          \"\"\"Finds the symmetrical similarity between doc1 and doc2\"\"\"\n",
    "\n",
    "          synsets1 = self.doc_to_synsets(doc1)\n",
    "          synsets2 = self.doc_to_synsets(doc2)\n",
    "          \n",
    "          return (self.similarity_score(synsets1, synsets2) + self.similarity_score(synsets2, synsets1)) / 2"
   ]
  },
  {
   "cell_type": "code",
   "execution_count": 3,
   "metadata": {},
   "outputs": [
    {
     "name": "stdout",
     "output_type": "stream",
     "text": [
      "Test Similarity Score:  0.6946386946386947\n"
     ]
    }
   ],
   "source": [
    "doc1 = 'I like rains'\n",
    "doc2 = 'I like showers'\n",
    "x = KNN_NLC_Classifer()\n",
    "print(\"Test Similarity Score: \", x.document_similarity(doc1, doc2))"
   ]
  },
  {
   "cell_type": "code",
   "execution_count": 4,
   "metadata": {},
   "outputs": [
    {
     "name": "stdout",
     "output_type": "stream",
     "text": [
      "['shower', 'shower', 'shower_bath', 'shower', 'rain_shower', 'shower', 'cascade', 'exhibitor', 'exhibitioner', 'shower', 'shower', 'lavish', 'shower', 'shower', 'shower', 'shower', 'shower_down', 'shower']\n"
     ]
    }
   ],
   "source": [
    "synonyms = []\n",
    "antonyms = []\n",
    "#print(wordnet.synsets(\"shower\"))\n",
    "for syn in wn.synsets(\"shower\"):\n",
    "    #print(syn)\n",
    "    for l in syn.lemmas():\n",
    "        synonyms.append(l.name())\n",
    "\n",
    "print(synonyms)"
   ]
  },
  {
   "cell_type": "code",
   "execution_count": 5,
   "metadata": {},
   "outputs": [
    {
     "name": "stdout",
     "output_type": "stream",
     "text": [
      "                            text       answer  output\n",
      "0           How hot is it today?  temperature       1\n",
      "1             Is it hot outside?  temperature       1\n",
      "2  Will it be uncomfortably hot?  temperature       1\n",
      "3         Will it be sweltering?  temperature       1\n",
      "4          How cold is it today?  temperature       1\n",
      "\n",
      "Size of input file is  (50, 3)\n"
     ]
    }
   ],
   "source": [
    "# 1. Importing the dataset\n",
    "#we'll use the demo dataset available at Watson NLC Classifier Demo.\n",
    "FILENAME = \"https://raw.githubusercontent.com/watson-developer-cloud/natural-language-classifier-nodejs/master/training/weather_data_train.csv\"          \n",
    "\n",
    "dataset = pd.read_csv(FILENAME, header = None)\n",
    "\n",
    "dataset.rename(columns = {0:'text', 1:'answer'}, inplace = True)\n",
    "\n",
    "dataset['output'] = np.where(dataset['answer'] == 'temperature', 1,0)\n",
    "Num_Words = dataset.shape[0]\n",
    "\n",
    "print(dataset.head())\n",
    "print(\"\\nSize of input file is \", dataset.shape)"
   ]
  },
  {
   "cell_type": "code",
   "execution_count": 6,
   "metadata": {},
   "outputs": [
    {
     "name": "stdout",
     "output_type": "stream",
     "text": [
      "Below is the sample of training text after removing the stop words\n",
      "0                     hot\n",
      "1                     hot\n",
      "2       uncomfortably hot\n",
      "3              sweltering\n",
      "4                    cold\n",
      "5                    cold\n",
      "6      uncomfortably cold\n",
      "7                  frigid\n",
      "8           expected high\n",
      "9    expected temperature\n",
      "Name: text, dtype: object\n"
     ]
    },
    {
     "name": "stderr",
     "output_type": "stream",
     "text": [
      "[nltk_data] Downloading package stopwords to\n",
      "[nltk_data]     /Users/zer0deck/nltk_data...\n",
      "[nltk_data]   Package stopwords is already up-to-date!\n"
     ]
    }
   ],
   "source": [
    "import re\n",
    "nltk.download('stopwords')\n",
    "s = stopwords.words('english')\n",
    "#add additional stop words\n",
    "s.extend(['today', 'tomorrow', 'outside', 'out', 'there'])\n",
    "\n",
    "ps = nltk.wordnet.WordNetLemmatizer()\n",
    "for i in range(dataset.shape[0]):\n",
    "    review = re.sub('[^a-zA-Z]', ' ', dataset.loc[i,'text'])\n",
    "    review = review.lower()\n",
    "    review = review.split()\n",
    "\n",
    "    review = [ps.lemmatize(word) for word in review if not word in s]\n",
    "    review = ' '.join(review)\n",
    "    dataset.loc[i, 'text'] = review\n",
    "\n",
    "X_train = dataset['text']\n",
    "y_train = dataset['output']\n",
    "\n",
    "print(\"Below is the sample of training text after removing the stop words\")\n",
    "print(dataset['text'][:10])"
   ]
  },
  {
   "cell_type": "code",
   "execution_count": 7,
   "metadata": {},
   "outputs": [
    {
     "name": "stderr",
     "output_type": "stream",
     "text": [
      "/opt/homebrew/Caskroom/miniforge/base/lib/python3.9/site-packages/numpy/core/fromnumeric.py:3440: RuntimeWarning: Mean of empty slice.\n",
      "  return _methods._mean(a, axis=axis, dtype=dtype,\n",
      "/opt/homebrew/Caskroom/miniforge/base/lib/python3.9/site-packages/numpy/core/_methods.py:189: RuntimeWarning: invalid value encountered in double_scalars\n",
      "  ret = ret.dtype.type(ret / rcount)\n"
     ]
    },
    {
     "name": "stdout",
     "output_type": "stream",
     "text": [
      "                                    text  code       answer\n",
      "0                           will it rain     0   Conditions\n",
      "1                     Is it hot outside?     1  Temperature\n",
      "2   What is the expected high for today?     1  Temperature\n",
      "3             Will it be foggy tomorrow?     1  Temperature\n",
      "4            Should I prepare for sleet?     0   Conditions\n",
      "5           Will there be a storm today?     0   Conditions\n",
      "6      do we need to take umbrella today     0   Conditions\n",
      "7                will it be wet tomorrow     0   Conditions\n",
      "8                   is it humid tomorrow     1  Temperature\n",
      "9        what is the precipitation today     1  Temperature\n",
      "10                is it freezing outside     1  Temperature\n",
      "11                    is it cool outside     1  Temperature\n",
      "12        are there strong winds outside     0   Conditions\n"
     ]
    }
   ],
   "source": [
    "# 4. Train the Classifier\n",
    "classifier = KNN_NLC_Classifer(k=1, distance_type='path')\n",
    "classifier.fit(X_train, y_train)\n",
    "\n",
    "final_test_list = ['will it rain', 'Is it hot outside?' , 'What is the expected high for today?' , \n",
    "                   'Will it be foggy tomorrow?', 'Should I prepare for sleet?',\n",
    "                     'Will there be a storm today?', 'do we need to take umbrella today',\n",
    "                    'will it be wet tomorrow', 'is it humid tomorrow', 'what is the precipitation today',\n",
    "                    'is it freezing outside', 'is it cool outside', \"are there strong winds outside\",]\n",
    "                 \n",
    "test_corpus = []\n",
    "for i in range(len(final_test_list)):\n",
    "    review = re.sub('[^a-zA-Z]', ' ', final_test_list[i])\n",
    "    review = review.lower()\n",
    "    review = review.split()\n",
    "\n",
    "    review = [ps.lemmatize(word) for word in review if not word in s]\n",
    "    review = ' '.join(review)\n",
    "    test_corpus.append(review)\n",
    "\n",
    "y_pred_final = classifier.predict(test_corpus)\n",
    "\n",
    "output_df = pd.DataFrame(data = {'text': final_test_list, 'code': y_pred_final})\n",
    "output_df['answer'] = np.where(output_df['code']==1, 'Temperature','Conditions')\n",
    "print(output_df)"
   ]
  }
 ],
 "metadata": {
  "interpreter": {
   "hash": "c6e4e9f98eb68ad3b7c296f83d20e6de614cb42e90992a65aa266555a3137d0d"
  },
  "kernelspec": {
   "display_name": "Python 3.9.7 64-bit ('base': conda)",
   "language": "python",
   "name": "python3"
  },
  "language_info": {
   "codemirror_mode": {
    "name": "ipython",
    "version": 3
   },
   "file_extension": ".py",
   "mimetype": "text/x-python",
   "name": "python",
   "nbconvert_exporter": "python",
   "pygments_lexer": "ipython3",
   "version": "3.9.7"
  },
  "orig_nbformat": 4
 },
 "nbformat": 4,
 "nbformat_minor": 2
}
