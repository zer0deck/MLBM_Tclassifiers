{
 "cells": [
  {
   "cell_type": "code",
   "execution_count": null,
   "metadata": {},
   "outputs": [],
   "source": [
    "# Libs intialization\n",
    "import sklearn as sk\n",
    "import pandas as pd\n",
    "import numpy as np\n",
    "import math"
   ]
  },
  {
   "cell_type": "code",
   "execution_count": null,
   "metadata": {},
   "outputs": [],
   "source": [
    "df = pd.read_csv('../Data/FilteredData.csv', sep= ';', index_col=False)\n",
    "\n",
    "flist = ['Fashion', 'Games', 'Music', 'Politics', 'Sport']\n",
    "\n",
    "# Creating uniq files for each class for logistic regression\n",
    "for i in range(0, len(flist)):\n",
    "\n",
    "    df['Label'] = 0\n",
    "    df['True Label'] = 0\n",
    "    df.loc[df['True class'] == i, ['True Label']] = 1\n",
    "    df.loc[df['Class'] == i, ['Label']] = 1\n",
    "    \n",
    "    locals()[flist[i]] = df [['TokenizedText', 'TF-IDF', 'TF-IDF sum', 'Words quantity', 'TF-IDF mean', 'Label', 'True Label']]"
   ]
  },
  {
   "cell_type": "code",
   "execution_count": null,
   "metadata": {},
   "outputs": [],
   "source": [
    "# Data normalization with exponential normalization method\n",
    "p = ['TF-IDF sum', 'Words quantity', 'TF-IDF mean']\n",
    "r = ['Snorm', 'WQnorm', 'Tmean']\n",
    "for q in range (0, len(flist)):\n",
    "    DATA = locals()[flist[q]]\n",
    "    for j in range(0, len(p)):\n",
    "        z = []\n",
    "        xmin = DATA[p[j]].min()\n",
    "        for i in range(0,len(DATA[p[j]])):\n",
    "            x = DATA[p[j]][i]\n",
    "            z.append(1-math.exp(1-x/xmin))\n",
    "        DATA[r[j]]=z\n",
    "    locals()[flist[q]] = DATA"
   ]
  },
  {
   "cell_type": "code",
   "execution_count": null,
   "metadata": {},
   "outputs": [],
   "source": [
    "#Selecting the data for predictors. The indexes are not included in the data\n",
    "X = pd.DataFrame(Games[r])\n",
    "#Selecting the response column\n",
    "y = pd.DataFrame(DATA['TARGET'])\n",
    "#Model training\n",
    "reg = sk.linear_model.LogisticRegression(random_state=2019, solver='lbfgs').fit(X, y.values.ravel())\n"
   ]
  }
 ],
 "metadata": {
  "interpreter": {
   "hash": "c6e4e9f98eb68ad3b7c296f83d20e6de614cb42e90992a65aa266555a3137d0d"
  },
  "kernelspec": {
   "display_name": "Python 3.9.7 64-bit ('base': conda)",
   "language": "python",
   "name": "python3"
  },
  "language_info": {
   "codemirror_mode": {
    "name": "ipython",
    "version": 3
   },
   "file_extension": ".py",
   "mimetype": "text/x-python",
   "name": "python",
   "nbconvert_exporter": "python",
   "pygments_lexer": "ipython3",
   "version": "3.9.7"
  },
  "orig_nbformat": 4
 },
 "nbformat": 4,
 "nbformat_minor": 2
}
